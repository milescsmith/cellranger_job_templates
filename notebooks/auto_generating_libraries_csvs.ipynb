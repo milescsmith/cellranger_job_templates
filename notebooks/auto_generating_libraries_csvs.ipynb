{
 "cells": [
  {
   "cell_type": "code",
   "execution_count": 157,
   "id": "hired-democracy",
   "metadata": {},
   "outputs": [],
   "source": [
    "import pandas as pd\n",
    "import numpy as np\n",
    "from typing import List, Tuple\n",
    "from pathlib import Path\n",
    "\n",
    "fastq_directory = Path(\"/mnt/scratch/monocytes_vil10/data/fastqs\")"
   ]
  },
  {
   "cell_type": "code",
   "execution_count": 149,
   "id": "recent-witness",
   "metadata": {},
   "outputs": [],
   "source": [
    "from itertools import takewhile\n",
    "  \n",
    "def find_prefix(strlist: List[str]) -> str:\n",
    "    res = ''.join(c[0] for c in takewhile(lambda x: \n",
    "            all(x[0] == y for y in x), zip(*strlist)))\n",
    "    return res"
   ]
  },
  {
   "cell_type": "code",
   "execution_count": 72,
   "id": "oriented-logistics",
   "metadata": {},
   "outputs": [],
   "source": [
    "def find_suffix(strlist: List[str]) -> str:\n",
    "    revlist = [_[::-1] for _ in strlist]\n",
    "    res = ''.join(c[0] for c in takewhile(lambda x: \n",
    "            all(x[0] == y for y in x), zip(*revlist)))\n",
    "    return res[::-1]"
   ]
  },
  {
   "cell_type": "code",
   "execution_count": 96,
   "id": "monthly-ivory",
   "metadata": {},
   "outputs": [],
   "source": [
    "subdirs = [_ for _ in fastq_directory.iterdir() if _.is_dir()]"
   ]
  },
  {
   "cell_type": "code",
   "execution_count": 76,
   "id": "accessible-orientation",
   "metadata": {},
   "outputs": [],
   "source": [
    "import re"
   ]
  },
  {
   "cell_type": "code",
   "execution_count": 89,
   "id": "varying-boundary",
   "metadata": {},
   "outputs": [],
   "source": [
    "illumina_pattern = re.compile(r\"\\S+(?=_S\\d+_R\\d+_\\d+\\.fastq\\.gz)\")"
   ]
  },
  {
   "cell_type": "code",
   "execution_count": 94,
   "id": "executive-average",
   "metadata": {},
   "outputs": [
    {
     "data": {
      "text/plain": [
       "['mono_vil10_adt_set1_RPI1',\n",
       " 'mono_vil10_adt_set1_RPI1',\n",
       " 'mono_vil10_gex_set1_SI-GA-D10_1',\n",
       " 'mono_vil10_gex_set1_SI-GA-D10_1',\n",
       " 'mono_vil10_gex_set1_SI-GA-D10_2',\n",
       " 'mono_vil10_gex_set1_SI-GA-D10_2',\n",
       " 'mono_vil10_gex_set1_SI-GA-D10_3',\n",
       " 'mono_vil10_gex_set1_SI-GA-D10_3',\n",
       " 'mono_vil10_gex_set1_SI-GA-D10_4',\n",
       " 'mono_vil10_gex_set1_SI-GA-D10_4',\n",
       " 'mono_vil10_hto_set1_D701',\n",
       " 'mono_vil10_hto_set1_D701']"
      ]
     },
     "execution_count": 94,
     "metadata": {},
     "output_type": "execute_result"
    }
   ],
   "source": [
    "[illumina_pattern.match(_)[0] for _ in b]"
   ]
  },
  {
   "cell_type": "code",
   "execution_count": 99,
   "id": "interpreted-dynamics",
   "metadata": {},
   "outputs": [],
   "source": [
    "subdir = subdirs[0]"
   ]
  },
  {
   "cell_type": "code",
   "execution_count": 209,
   "id": "virgin-translation",
   "metadata": {},
   "outputs": [
    {
     "data": {
      "text/plain": [
       "'set1'"
      ]
     },
     "execution_count": 209,
     "metadata": {},
     "output_type": "execute_result"
    }
   ],
   "source": [
    "subdir.name"
   ]
  },
  {
   "cell_type": "code",
   "execution_count": 205,
   "id": "british-hotel",
   "metadata": {},
   "outputs": [],
   "source": [
    "fastq_files = []\n",
    "sample_names = []\n",
    "library_types = []\n",
    "\n",
    "adt_subdir = subdir.joinpath(\"adt\")\n",
    "gex_subdir = subdir.joinpath(\"gex\")\n",
    "hto_subdir = subdir.joinpath(\"hto\")"
   ]
  },
  {
   "cell_type": "code",
   "execution_count": 202,
   "id": "featured-center",
   "metadata": {},
   "outputs": [],
   "source": [
    "def extract_subdir_files(\n",
    "    subdir: Path,\n",
    "    libtype: str,\n",
    ") -> Tuple[List[str], List[str], List[str]]:\n",
    "    seq_files = list(subdir.glob(\"*.fastq.gz\"))\n",
    "    fq_files = [str(subdir.resolve())]*(len(seq_files)//2)\n",
    "    names = np.unique([illumina_pattern.match(_.name)[0] for _ in seq_files])\n",
    "    if libtype == \"adt\" or libtype == \"hto\":\n",
    "        lib_descript = [\"Antibody Capture\"]*(len(seq_files)//2)\n",
    "    elif libtype == \"gex\":\n",
    "        lib_descript = [\"Gene Expression\"]*(len(seq_files)//2)\n",
    "    \n",
    "    return fq_files, names, lib_descript"
   ]
  },
  {
   "cell_type": "code",
   "execution_count": 199,
   "id": "restricted-frame",
   "metadata": {},
   "outputs": [
    {
     "data": {
      "text/plain": [
       "(['/mnt/scratch/monocytes_vil10/data/fastqs/set1/gex',\n",
       "  '/mnt/scratch/monocytes_vil10/data/fastqs/set1/gex',\n",
       "  '/mnt/scratch/monocytes_vil10/data/fastqs/set1/gex',\n",
       "  '/mnt/scratch/monocytes_vil10/data/fastqs/set1/gex'],\n",
       " array(['mono_vil10_gex_set1_SI-GA-D10_1',\n",
       "        'mono_vil10_gex_set1_SI-GA-D10_2',\n",
       "        'mono_vil10_gex_set1_SI-GA-D10_3',\n",
       "        'mono_vil10_gex_set1_SI-GA-D10_4'], dtype='<U31'),\n",
       " ['Gene Expression', 'Gene Expression', 'Gene Expression', 'Gene Expression'])"
      ]
     },
     "execution_count": 199,
     "metadata": {},
     "output_type": "execute_result"
    }
   ],
   "source": [
    "extract_subdir_files(subdir = subdir.joinpath(\"gex\"), libtype=\"gex\")"
   ]
  },
  {
   "cell_type": "code",
   "execution_count": 206,
   "id": "found-london",
   "metadata": {},
   "outputs": [],
   "source": [
    "if adt_subdir.exists():\n",
    "    x, y, z = extract_subdir_files(subdir = subdir.joinpath(\"adt\"), libtype=\"adt\")\n",
    "    fastq_files = np.concatenate([fastq_files, x]).flat\n",
    "    sample_names = np.concatenate([sample_names, y]).flat\n",
    "    library_types = np.concatenate([library_types, z]).flat\n",
    "\n",
    "if gex_subdir.exists():\n",
    "    x, y, z = extract_subdir_files(subdir = subdir.joinpath(\"gex\"), libtype=\"gex\")\n",
    "    fastq_files = np.concatenate([fastq_files, x]).flat\n",
    "    sample_names = np.concatenate([sample_names, y]).flat\n",
    "    library_types = np.concatenate([library_types, z]).flat\n",
    "    \n",
    "if hto_subdir.exists():\n",
    "    x, y, z = extract_subdir_files(subdir = subdir.joinpath(\"hto\"), libtype=\"hto\")\n",
    "    fastq_files = np.concatenate([fastq_files, x]).flat\n",
    "    sample_names = np.concatenate([sample_names, y]).flat\n",
    "    library_types = np.concatenate([library_types, z]).flat"
   ]
  },
  {
   "cell_type": "code",
   "execution_count": 207,
   "id": "respective-freeware",
   "metadata": {},
   "outputs": [
    {
     "data": {
      "text/html": [
       "<div>\n",
       "<style scoped>\n",
       "    .dataframe tbody tr th:only-of-type {\n",
       "        vertical-align: middle;\n",
       "    }\n",
       "\n",
       "    .dataframe tbody tr th {\n",
       "        vertical-align: top;\n",
       "    }\n",
       "\n",
       "    .dataframe thead th {\n",
       "        text-align: right;\n",
       "    }\n",
       "</style>\n",
       "<table border=\"1\" class=\"dataframe\">\n",
       "  <thead>\n",
       "    <tr style=\"text-align: right;\">\n",
       "      <th></th>\n",
       "      <th>fastqs</th>\n",
       "      <th>sample</th>\n",
       "      <th>library_type</th>\n",
       "    </tr>\n",
       "  </thead>\n",
       "  <tbody>\n",
       "    <tr>\n",
       "      <th>0</th>\n",
       "      <td>/mnt/scratch/monocytes_vil10/data/fastqs/set1/adt</td>\n",
       "      <td>mono_vil10_adt_set1_RPI1</td>\n",
       "      <td>Antibody Capture</td>\n",
       "    </tr>\n",
       "    <tr>\n",
       "      <th>1</th>\n",
       "      <td>/mnt/scratch/monocytes_vil10/data/fastqs/set1/gex</td>\n",
       "      <td>mono_vil10_gex_set1_SI-GA-D10_1</td>\n",
       "      <td>Gene Expression</td>\n",
       "    </tr>\n",
       "    <tr>\n",
       "      <th>2</th>\n",
       "      <td>/mnt/scratch/monocytes_vil10/data/fastqs/set1/gex</td>\n",
       "      <td>mono_vil10_gex_set1_SI-GA-D10_2</td>\n",
       "      <td>Gene Expression</td>\n",
       "    </tr>\n",
       "    <tr>\n",
       "      <th>3</th>\n",
       "      <td>/mnt/scratch/monocytes_vil10/data/fastqs/set1/gex</td>\n",
       "      <td>mono_vil10_gex_set1_SI-GA-D10_3</td>\n",
       "      <td>Gene Expression</td>\n",
       "    </tr>\n",
       "    <tr>\n",
       "      <th>4</th>\n",
       "      <td>/mnt/scratch/monocytes_vil10/data/fastqs/set1/gex</td>\n",
       "      <td>mono_vil10_gex_set1_SI-GA-D10_4</td>\n",
       "      <td>Gene Expression</td>\n",
       "    </tr>\n",
       "    <tr>\n",
       "      <th>5</th>\n",
       "      <td>/mnt/scratch/monocytes_vil10/data/fastqs/set1/hto</td>\n",
       "      <td>mono_vil10_hto_set1_D701</td>\n",
       "      <td>Antibody Capture</td>\n",
       "    </tr>\n",
       "  </tbody>\n",
       "</table>\n",
       "</div>"
      ],
      "text/plain": [
       "                                              fastqs  \\\n",
       "0  /mnt/scratch/monocytes_vil10/data/fastqs/set1/adt   \n",
       "1  /mnt/scratch/monocytes_vil10/data/fastqs/set1/gex   \n",
       "2  /mnt/scratch/monocytes_vil10/data/fastqs/set1/gex   \n",
       "3  /mnt/scratch/monocytes_vil10/data/fastqs/set1/gex   \n",
       "4  /mnt/scratch/monocytes_vil10/data/fastqs/set1/gex   \n",
       "5  /mnt/scratch/monocytes_vil10/data/fastqs/set1/hto   \n",
       "\n",
       "                            sample      library_type  \n",
       "0         mono_vil10_adt_set1_RPI1  Antibody Capture  \n",
       "1  mono_vil10_gex_set1_SI-GA-D10_1   Gene Expression  \n",
       "2  mono_vil10_gex_set1_SI-GA-D10_2   Gene Expression  \n",
       "3  mono_vil10_gex_set1_SI-GA-D10_3   Gene Expression  \n",
       "4  mono_vil10_gex_set1_SI-GA-D10_4   Gene Expression  \n",
       "5         mono_vil10_hto_set1_D701  Antibody Capture  "
      ]
     },
     "execution_count": 207,
     "metadata": {},
     "output_type": "execute_result"
    }
   ],
   "source": [
    "pd.DataFrame(\n",
    "    data={\n",
    "        \"fastqs\": list(fastq_files),\n",
    "        \"sample\": sample_names,\n",
    "        \"library_type\": library_types,\n",
    "    }\n",
    ")"
   ]
  },
  {
   "cell_type": "code",
   "execution_count": 184,
   "id": "wireless-stress",
   "metadata": {},
   "outputs": [
    {
     "data": {
      "text/plain": [
       "['/mnt/scratch/monocytes_vil10/data/fastqs/set1/adt',\n",
       " '/mnt/scratch/monocytes_vil10/data/fastqs/set1/adt',\n",
       " '/mnt/scratch/monocytes_vil10/data/fastqs/set1/gex',\n",
       " '/mnt/scratch/monocytes_vil10/data/fastqs/set1/adt',\n",
       " '/mnt/scratch/monocytes_vil10/data/fastqs/set1/gex',\n",
       " '/mnt/scratch/monocytes_vil10/data/fastqs/set1/hto']"
      ]
     },
     "execution_count": 184,
     "metadata": {},
     "output_type": "execute_result"
    }
   ],
   "source": [
    "list(fastq_files)"
   ]
  },
  {
   "cell_type": "code",
   "execution_count": 185,
   "id": "insured-milan",
   "metadata": {},
   "outputs": [
    {
     "data": {
      "text/plain": [
       "['mono_vil10_adt_set1_RPI1',\n",
       " 'mono_vil10_adt_set1_RPI1',\n",
       " 'mono_vil10_gex_set1_SI-GA-D10_1',\n",
       " 'mono_vil10_gex_set1_SI-GA-D10_2',\n",
       " 'mono_vil10_gex_set1_SI-GA-D10_3',\n",
       " 'mono_vil10_gex_set1_SI-GA-D10_4',\n",
       " 'mono_vil10_adt_set1_RPI1',\n",
       " 'mono_vil10_gex_set1_SI-GA-D10_1',\n",
       " 'mono_vil10_gex_set1_SI-GA-D10_2',\n",
       " 'mono_vil10_gex_set1_SI-GA-D10_3',\n",
       " 'mono_vil10_gex_set1_SI-GA-D10_4',\n",
       " 'mono_vil10_hto_set1_D701']"
      ]
     },
     "execution_count": 185,
     "metadata": {},
     "output_type": "execute_result"
    }
   ],
   "source": [
    "list(sample_names)"
   ]
  },
  {
   "cell_type": "code",
   "execution_count": 62,
   "id": "sixth-graphics",
   "metadata": {},
   "outputs": [],
   "source": [
    "libtypes = [\"gex\", \"adt\", \"hto\"]\n",
    "for y in range(1,9):\n",
    "    pd.DataFrame(\n",
    "        data={\n",
    "            \"fastqs\": [f\"/s/guth-aci/monocytes_vil10/data/fastqs/set{y}/{x}\" for x in libtypes],\n",
    "            \"sample\": [f\"mono_vil10_{x}_set{y}\" for x in libtypes],\n",
    "            \"library_type\": [\"Gene Expression\", \"Antibody Capture\", \"Antibody Capture\"],\n",
    "        }\n",
    "    ).to_csv(f\"/mnt/scratch/monocytes_vil10/metadata/libraries_set{y}.csv\", index=False)"
   ]
  },
  {
   "cell_type": "code",
   "execution_count": null,
   "id": "mighty-damages",
   "metadata": {},
   "outputs": [],
   "source": []
  }
 ],
 "metadata": {
  "kernelspec": {
   "display_name": "Python 3.8 (XPython)",
   "language": "python",
   "name": "xpython"
  },
  "language_info": {
   "file_extension": ".py",
   "mimetype": "text/x-python",
   "name": "python",
   "version": "3.8.8"
  }
 },
 "nbformat": 4,
 "nbformat_minor": 5
}
